{
 "cells": [
  {
   "cell_type": "code",
   "execution_count": null,
   "id": "f7ba450c-4e72-414c-973d-c90ad75ec88a",
   "metadata": {
    "tags": []
   },
   "outputs": [],
   "source": [
    "import numpy as np\n",
    "import pandas as pd\n",
    "import matplotlib.pyplot as plt\n",
    "import seaborn as sns\n",
    "from sklearn.pipeline import Pipeline\n",
    "from sklearn.preprocessing import StandardScaler,PolynomialFeatures\n",
    "from sklearn.linear_model import LinearRegression\n",
    "%matplotlib inline"
   ]
  },
  {
   "cell_type": "code",
   "execution_count": null,
   "id": "f8926ea9-c15c-4056-839b-ef77539712a7",
   "metadata": {},
   "outputs": [],
   "source": [
    "from sklearn import processing"
   ]
  },
  {
   "cell_type": "code",
   "execution_count": null,
   "id": "5cd10aa2-dd86-4bc2-9974-22ed4e578dae",
   "metadata": {
    "tags": []
   },
   "outputs": [],
   "source": [
    "!pip install seaborn"
   ]
  },
  {
   "cell_type": "code",
   "execution_count": null,
   "id": "94a64193-0d91-4313-a732-b2f1a2d6b227",
   "metadata": {
    "tags": []
   },
   "outputs": [],
   "source": [
    "pip install pyodide.py"
   ]
  },
  {
   "cell_type": "code",
   "execution_count": null,
   "id": "953ee9d0-8b90-4c30-a714-73a2e93a660c",
   "metadata": {
    "tags": []
   },
   "outputs": [],
   "source": [
    "from pyodide.http import pyfetch"
   ]
  },
  {
   "cell_type": "code",
   "execution_count": null,
   "id": "4bd223e1-1e01-48d0-95db-f3f049e5e4c2",
   "metadata": {
    "tags": []
   },
   "outputs": [],
   "source": [
    "async def download(url, filename):\n",
    "    response = await pyfetch(url)\n",
    "    if response.status == 200:\n",
    "        with open(filename, \"wb\") as f:\n",
    "            f.write(await response.bytes())"
   ]
  },
  {
   "cell_type": "code",
   "execution_count": null,
   "id": "87b1b354-b939-43ec-afd0-1a16b4cac2d1",
   "metadata": {},
   "outputs": [],
   "source": []
  },
  {
   "cell_type": "code",
   "execution_count": null,
   "id": "a25670e2-393e-41c8-8f69-6c724f5ad258",
   "metadata": {},
   "outputs": [],
   "source": [
    "url =  'https://cf-coursera-data.s3.us.cloud-object-storage.appdomain.cloud/IBMDeveloperSkillsNetwork-DA0101EN-SkillsNetwork/labs/FinalModule_Coursera/data/kc_house_data_NaN.csv'\n",
    "result = await jsfetch(url)"
   ]
  },
  {
   "cell_type": "code",
   "execution_count": null,
   "id": "1aa90dd7-172a-434e-bda3-8610690a9ea6",
   "metadata": {
    "tags": []
   },
   "outputs": [],
   "source": [
    "await download(filename,  \"kc_house_data_NaN.csv\")\n",
    "filename = \"kc_house_data_NaN.csv\""
   ]
  },
  {
   "cell_type": "code",
   "execution_count": null,
   "id": "065a3e87-dcce-484e-b460-23e0a2823322",
   "metadata": {},
   "outputs": [],
   "source": [
    "df = pd.read_csv(\"kc_house_data.csv\")"
   ]
  },
  {
   "cell_type": "code",
   "execution_count": null,
   "id": "40524b04-f817-400c-aa54-75fc0f27dec3",
   "metadata": {
    "tags": []
   },
   "outputs": [],
   "source": [
    "df.head()"
   ]
  },
  {
   "cell_type": "code",
   "execution_count": null,
   "id": "de743e57-e058-4b69-a4e3-1f188bba600e",
   "metadata": {
    "tags": []
   },
   "outputs": [],
   "source": [
    "print(df.dtypes)"
   ]
  },
  {
   "cell_type": "code",
   "execution_count": null,
   "id": "4d48bf44-36a5-4be6-abd1-c86057d29abf",
   "metadata": {
    "tags": []
   },
   "outputs": [],
   "source": [
    "df.describe()"
   ]
  },
  {
   "cell_type": "code",
   "execution_count": null,
   "id": "d4672ed4-2b3d-4936-b85e-bbf10a32fd7a",
   "metadata": {
    "tags": []
   },
   "outputs": [],
   "source": [
    "df.columns"
   ]
  },
  {
   "cell_type": "markdown",
   "id": "f535fc76-c26d-44f6-aa42-ed1f0af79db5",
   "metadata": {},
   "source": [
    "# Data wrangling"
   ]
  },
  {
   "cell_type": "code",
   "execution_count": null,
   "id": "202c00d1-ed6d-4011-a98e-c28c35eab7e2",
   "metadata": {
    "tags": []
   },
   "outputs": [],
   "source": [
    "df.drop([\"id\"], axis=1, inplace = True)\n",
    "df.describe()"
   ]
  },
  {
   "cell_type": "code",
   "execution_count": null,
   "id": "93f61c79-15d3-4318-9cd7-f38d02d6d7fb",
   "metadata": {
    "tags": []
   },
   "outputs": [],
   "source": [
    "print(\"number of NaN values for the column bedrooms :\", df['bedrooms'].isnull().sum())\n",
    "print(\"number of NaN values for the column bathrooms :\", df['bathrooms'].isnull().sum())"
   ]
  },
  {
   "cell_type": "code",
   "execution_count": null,
   "id": "5582f070-88e4-4812-93fd-be253100dc56",
   "metadata": {
    "tags": []
   },
   "outputs": [],
   "source": [
    "mean=df['bedrooms'].mean()\n",
    "df['bedrooms'].replace(np.nan,mean, inplace=True)"
   ]
  },
  {
   "cell_type": "code",
   "execution_count": null,
   "id": "af55ed93-e657-4103-8484-84158ccbd19c",
   "metadata": {
    "tags": []
   },
   "outputs": [],
   "source": [
    "mean=df['sqft_above'].mean()\n",
    "df['sqft_above'].replace(np.nan,mean, inplace=True)"
   ]
  },
  {
   "cell_type": "code",
   "execution_count": null,
   "id": "b188bd96-e79b-42f0-ba08-2285a4342f2f",
   "metadata": {
    "tags": []
   },
   "outputs": [],
   "source": [
    "print(\"number of NaN values for the column bedroom :\", df['sqft_above'].isnull().sum())\n",
    "print(\"number of NaN values for the column bathrooms :\", df['bathrooms'].isnull().sum())"
   ]
  },
  {
   "cell_type": "markdown",
   "id": "9a854154-1a51-42ae-9638-dbb572e85d4e",
   "metadata": {},
   "source": [
    "# Exploratory Data Analysis"
   ]
  },
  {
   "cell_type": "code",
   "execution_count": null,
   "id": "df7e1df2-547d-452f-a0e2-ad9750168159",
   "metadata": {
    "tags": []
   },
   "outputs": [],
   "source": [
    "df['floors'].value_counts().to_frame()"
   ]
  },
  {
   "cell_type": "code",
   "execution_count": null,
   "id": "119cab13-1fd4-4fc2-8381-60fa565a9478",
   "metadata": {
    "tags": []
   },
   "outputs": [],
   "source": [
    "sns.boxplot(x = 'waterfront' , y = 'price',data=df)"
   ]
  },
  {
   "cell_type": "code",
   "execution_count": null,
   "id": "4b3128b5-7360-4e12-a2e3-eeedfe815095",
   "metadata": {
    "tags": []
   },
   "outputs": [],
   "source": [
    "sns.regplot(x = 'sqft_above' , y = 'price',data=df)"
   ]
  },
  {
   "cell_type": "code",
   "execution_count": null,
   "id": "333477f7-79bc-4e86-b4fe-8d1bcb2f3463",
   "metadata": {
    "tags": []
   },
   "outputs": [],
   "source": [
    "df.corr()['price'].sort_values()"
   ]
  },
  {
   "cell_type": "markdown",
   "id": "8bd688e9-0c46-44a6-a369-1243cb7b7760",
   "metadata": {},
   "source": [
    "# Model Development"
   ]
  },
  {
   "cell_type": "code",
   "execution_count": null,
   "id": "71a51d8d-e0e9-4b60-8c03-1f7b8e5a535b",
   "metadata": {
    "tags": []
   },
   "outputs": [],
   "source": [
    "X = df[['long']]\n",
    "Y = df['price']\n",
    "lm = LinearRegression()\n",
    "lm.fit(X, Y)\n",
    "lm.score(X, Y)"
   ]
  },
  {
   "cell_type": "code",
   "execution_count": 148,
   "id": "b861790b-359f-42c8-a840-1dbc15c2c9ef",
   "metadata": {
    "tags": []
   },
   "outputs": [
    {
     "data": {
      "text/plain": [
       "0.4928532179037931"
      ]
     },
     "execution_count": 148,
     "metadata": {},
     "output_type": "execute_result"
    }
   ],
   "source": [
    "X1 = df[['sqft_living']]\n",
    "lm.fit(X1, Y)\n",
    "lm.score(X1, Y)"
   ]
  },
  {
   "cell_type": "code",
   "execution_count": null,
   "id": "c5adb55a-0a24-4527-b3ff-fd4510470fdd",
   "metadata": {
    "tags": []
   },
   "outputs": [],
   "source": [
    "print(df.isnull().sum())"
   ]
  },
  {
   "cell_type": "code",
   "execution_count": null,
   "id": "8b61f06b-417e-49db-ac1b-1ab812aeee12",
   "metadata": {
    "tags": []
   },
   "outputs": [],
   "source": [
    "print(df['bedrooms'].unique())"
   ]
  },
  {
   "cell_type": "code",
   "execution_count": 135,
   "id": "979685b7-29db-4805-8a30-820cc118ea94",
   "metadata": {
    "tags": []
   },
   "outputs": [],
   "source": [
    "features =[\"floors\", \"waterfront\",\"lat\",\"bedrooms\" ,\"sqft_basement\" ,\"view\" , \"bathrooms\",\"sqft_living15\",\"sqft_above\",\"grade\",\"sqft_living\"]\n"
   ]
  },
  {
   "cell_type": "code",
   "execution_count": 136,
   "id": "799935d5-68d9-4ffa-a0e2-3a787c518c2a",
   "metadata": {
    "tags": []
   },
   "outputs": [
    {
     "data": {
      "text/plain": [
       "0.6577210668098342"
      ]
     },
     "execution_count": 136,
     "metadata": {},
     "output_type": "execute_result"
    }
   ],
   "source": [
    "lm.fit(df[features], Y)\n",
    "lm.score(df[features], Y)"
   ]
  },
  {
   "cell_type": "code",
   "execution_count": 137,
   "id": "9dc982f0-e6f1-4e54-a021-e75d7516064a",
   "metadata": {
    "tags": []
   },
   "outputs": [],
   "source": [
    "Input=[('Scale',StandardScaler()),('Polynomial', PolynomialFeatures(include_bias=False)),('model', LinearRegression())]"
   ]
  },
  {
   "cell_type": "code",
   "execution_count": 139,
   "id": "065ec13f-c730-4c3e-8d67-bd08c8cd7436",
   "metadata": {
    "tags": []
   },
   "outputs": [
    {
     "data": {
      "text/plain": [
       "0.7513078936661978"
      ]
     },
     "execution_count": 139,
     "metadata": {},
     "output_type": "execute_result"
    }
   ],
   "source": [
    "pipe = Pipeline(Input)\n",
    "pipe.fit(df[features],Y)\n",
    "pipe.score(df[features],Y)"
   ]
  },
  {
   "cell_type": "code",
   "execution_count": 140,
   "id": "31189b98-7168-452b-bae5-ef4c22a71ff6",
   "metadata": {
    "tags": []
   },
   "outputs": [
    {
     "name": "stdout",
     "output_type": "stream",
     "text": [
      "done\n"
     ]
    }
   ],
   "source": [
    "from sklearn.model_selection import cross_val_score\n",
    "from sklearn.model_selection import train_test_split\n",
    "print(\"done\")"
   ]
  },
  {
   "cell_type": "code",
   "execution_count": 142,
   "id": "f4fd07dd-39c0-46bb-a4ae-b0540adc6ea1",
   "metadata": {
    "tags": []
   },
   "outputs": [
    {
     "name": "stdout",
     "output_type": "stream",
     "text": [
      "number of test samples: 3242\n",
      "number of training samples: 18371\n"
     ]
    }
   ],
   "source": [
    "features =[\"floors\", \"waterfront\",\"lat\",\"bedrooms\" ,\"sqft_basement\" ,\"view\" , \"bathrooms\",\"sqft_living15\",\"sqft_above\",\"grade\",\"sqft_living\"]\n",
    "X = df[features]\n",
    "Y =df['price']\n",
    "\n",
    "x_train, x_test, y_train, y_test = train_test_split(X, Y, test_size=0.15, random_state=1)\n",
    "\n",
    "\n",
    "print(\"number of test samples:\", x_test.shape[0])\n",
    "print(\"number of training samples:\",x_train.shape[0])"
   ]
  },
  {
   "cell_type": "code",
   "execution_count": 143,
   "id": "9225182d-79ac-4ae2-85e5-899bbba28dc6",
   "metadata": {
    "tags": []
   },
   "outputs": [],
   "source": [
    "from sklearn.linear_model import Ridge"
   ]
  },
  {
   "cell_type": "code",
   "execution_count": 145,
   "id": "1e0bb915-593d-457a-9196-6382c067b664",
   "metadata": {
    "tags": []
   },
   "outputs": [
    {
     "data": {
      "text/plain": [
       "0.6480385015855327"
      ]
     },
     "execution_count": 145,
     "metadata": {},
     "output_type": "execute_result"
    }
   ],
   "source": [
    "RM = Ridge(alpha = 0.1)\n",
    "RM.fit(x_train,y_train)\n",
    "RM.score(x_test,y_test)"
   ]
  },
  {
   "cell_type": "code",
   "execution_count": 147,
   "id": "3be49b8e-581f-479d-b13d-4cd0090f2095",
   "metadata": {
    "tags": []
   },
   "outputs": [
    {
     "data": {
      "text/plain": [
       "0.7004334884792007"
      ]
     },
     "execution_count": 147,
     "metadata": {},
     "output_type": "execute_result"
    }
   ],
   "source": [
    "pr=PolynomialFeatures(degree=2)\n",
    "x_train_pr=pr.fit_transform(x_train[[\"floors\", \"waterfront\",\"lat\",\"bedrooms\" ,\"sqft_basement\" ,\"view\" , \"bathrooms\",\"sqft_living15\",\"sqft_above\",\"grade\",\"sqft_living\"]])\n",
    "x_test_pr=pr.fit_transform(x_test[[\"floors\", \"waterfront\",\"lat\",\"bedrooms\" ,\"sqft_basement\" ,\"view\" , \"bathrooms\",\"sqft_living15\",\"sqft_above\",\"grade\",\"sqft_living\"]])\n",
    "\n",
    "RM = Ridge(alpha = 0.1)\n",
    "RM.fit(x_train_pr, y_train)\n",
    "RM.score(x_test_pr, y_test)"
   ]
  },
  {
   "cell_type": "code",
   "execution_count": null,
   "id": "850ab2f8-f340-4509-9365-a0e594c03712",
   "metadata": {},
   "outputs": [],
   "source": []
  }
 ],
 "metadata": {
  "kernelspec": {
   "display_name": "Python 3 (ipykernel)",
   "language": "python",
   "name": "python3"
  },
  "language_info": {
   "codemirror_mode": {
    "name": "ipython",
    "version": 3
   },
   "file_extension": ".py",
   "mimetype": "text/x-python",
   "name": "python",
   "nbconvert_exporter": "python",
   "pygments_lexer": "ipython3",
   "version": "3.11.3"
  }
 },
 "nbformat": 4,
 "nbformat_minor": 5
}
