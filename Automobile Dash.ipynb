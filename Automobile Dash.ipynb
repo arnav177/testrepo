{
 "cells": [
  {
   "cell_type": "code",
   "execution_count": 1,
   "id": "311685ed-328b-4b8f-a088-c3a93683532d",
   "metadata": {
    "tags": []
   },
   "outputs": [
    {
     "data": {
      "text/html": [
       "\n",
       "        <iframe\n",
       "            width=\"100%\"\n",
       "            height=\"650\"\n",
       "            src=\"http://127.0.0.1:8050/\"\n",
       "            frameborder=\"0\"\n",
       "            allowfullscreen\n",
       "            \n",
       "        ></iframe>\n",
       "        "
      ],
      "text/plain": [
       "<IPython.lib.display.IFrame at 0x233c9ff2750>"
      ]
     },
     "metadata": {},
     "output_type": "display_data"
    }
   ],
   "source": [
    "#!/usr/bin/env python\n",
    "# coding: utf-8\n",
    "\n",
    "# In[ ]:\n",
    "\n",
    "\n",
    "import dash\n",
    "from dash import dcc\n",
    "from dash import html\n",
    "from dash.dependencies import Input, Output\n",
    "import pandas as pd\n",
    "import plotly.graph_objs as go\n",
    "import plotly.express as px\n",
    "\n",
    "# Load the data using pandas\n",
    "data = pd.read_csv('https://cf-courses-data.s3.us.cloud-object-storage.appdomain.cloud/IBMDeveloperSkillsNetwork-DV0101EN-SkillsNetwork/Data%20Files/historical_automobile_sales.csv')\n",
    "#print(data.columns)\n",
    "# Initialize the Dash app\n",
    "app = dash.Dash(__name__)\n",
    "\n",
    "# Set the title of the dashboard\n",
    "#app.title = \"Automobile Statistics Dashboard\"\n",
    "\n",
    "#---------------------------------------------------------------------------------\n",
    "# Create the dropdown menu options\n",
    "dropdown_options = [\n",
    "    {'label': 'Yearly Statistics', 'value': 'Yearly Statistics'},\n",
    "    {'label': 'Recession Period Statistics', 'value': 'Recession Period Statistics'}\n",
    "]\n",
    "# List of years \n",
    "year_list = [i for i in range(1980, 2024, 1)]\n",
    "#---------------------------------------------------------------------------------------\n",
    "# Create the layout of the app\n",
    "app.layout = html.Div([\n",
    "    #TASK 2.1 Add title to the dashboard\n",
    "    html.H1(\"Automobile Sales Statistics Dashboard\",\n",
    "                                style={'textAlign':'left', \n",
    "                                        'color':'#503D36', \n",
    "                                        'font-size':24}),\n",
    "    html.Div([#TASK 2.2: Add two dropdown menus\n",
    "        html.Label(\"Select Statistics:\"),\n",
    "        dcc.Dropdown(\n",
    "            id='dropdown-statistics',\n",
    "            options=dropdown_options,\n",
    "            value='Select Statistics',\n",
    "            placeholder='Select a report type'\n",
    "        )\n",
    "    ]),\n",
    "   html.Div(dcc.Dropdown(\n",
    "            id='select-year',\n",
    "            options=[{'label': i, 'value': i} for i in year_list],\n",
    "            value='select-year'\n",
    "        )),\n",
    "    html.Div([#TASK 2.3: Add a division for output display\n",
    "    html.Div(id='output-container', className='chart-grid', style={'display':'flex'}),])\n",
    "])\n",
    "#TASK 2.4: Creating Callbacks\n",
    "# Define the callback function to update the input container based on the selected statistics\n",
    "@app.callback(\n",
    "    Output(component_id='select-year', component_property='disabled'),\n",
    "    Input(component_id='dropdown-statistics',component_property='value'))\n",
    "\n",
    "def update_input_container(selected_statistics):\n",
    "    if selected_statistics =='Yearly Statistics': \n",
    "        return False\n",
    "    else: \n",
    "        return True\n",
    "\n",
    "#Callback for plotting\n",
    "# Define the callback function to update the input container based on the selected statistics\n",
    "@app.callback(\n",
    "    Output(component_id='output-container', component_property='children'),\n",
    "    [Input(component_id='dropdown-statistics', component_property='value'), Input(component_id='select-year', component_property='value')])\n",
    "\n",
    "\n",
    "def update_output_container(selected_statistics, input_year):\n",
    "    if selected_statistics == 'Recession Period Statistics':\n",
    "        # Filter the data for recession periods\n",
    "        recession_data = data[data['Recession'] == 1]\n",
    "        \n",
    "#TASK 2.5: Create and display graphs for Recession Report Statistics\n",
    "\n",
    "#Plot 1 Automobile sales fluctuate over Recession Period (year wise)\n",
    "        # use groupby to create relevant data for plotting\n",
    "        yearly_rec=recession_data.groupby('Year')['Automobile_Sales'].mean().reset_index()\n",
    "        R_chart1 = dcc.Graph(\n",
    "            figure=px.line(yearly_rec, \n",
    "                x='Year',\n",
    "                y='Automobile_Sales',\n",
    "                title=\"Average Automobile Sales fluctuation over Recession Period\"))\n",
    "\n",
    "#Plot 2 Calculate the average number of vehicles sold by vehicle type       \n",
    "        # use groupby to create relevant data for plotting\n",
    "        average_sales = recession_data.groupby('Vehicle_Type')['Automobile_Sales'].mean().reset_index()                           \n",
    "        R_chart2  = dcc.Graph(figure=px.bar(average_sales, x= 'Vehicle_Type', y= 'Automobile_Sales',\n",
    "                title='Average Number of Vehicles Sold by Type'))\n",
    "        \n",
    "# Plot 3 Pie chart for total expenditure share by vehicle type during recessions\n",
    "        # use groupby to create relevant data for plotting\n",
    "        exp_rec= recession_data.groupby('Vehicle_Type')['Advertising_Expenditure'].sum().reset_index()\n",
    "        R_chart3 = dcc.Graph(\n",
    "                    figure=px.pie(exp_rec,\n",
    "                    values='Advertising_Expenditure',\n",
    "                 names='Vehicle_Type',\n",
    "                 title=\"Total Expenditure by Vehicle Type\"\n",
    "                ))\n",
    "\n",
    "# Plot 4 bar chart for the effect of unemployment rate on vehicle type and sales\n",
    "        unempl = recession_data.groupby(['Vehicle_Type', 'unemployment_rate'])['Automobile_Sales'].mean().reset_index()\n",
    "        print(unempl.columns)\n",
    "        R_chart4 = dcc.Graph(\n",
    "                    figure=px.bar(unempl,\n",
    "                    x='Vehicle_Type',\n",
    "                    y='Automobile_Sales',\n",
    "                    color='unemployment_rate',\n",
    "                    title='Effect of Unemployment Rate on Vehicle Type and Sales'\n",
    "                    ))\n",
    "\n",
    "\n",
    "        return [\n",
    "            html.Div(className='chart-item', children=[html.Div(children=R_chart1),html.Div(children=R_chart2)],style={'display':'flex'}),\n",
    "            html.Div(className='chart-item', children=[html.Div(children=R_chart3),html.Div(children=R_chart4)],style={'display':'flex'})\n",
    "            ]\n",
    "\n",
    "# TASK 2.6: Create and display graphs for Yearly Report Statistics\n",
    " # Yearly Statistic Report Plots                             \n",
    "    elif (input_year and selected_statistics=='Yearly Statistics') :\n",
    "        yearly_data = data[data['Year'] == input_year]\n",
    "                              \n",
    "#TASK 2.5: Creating Graphs Yearly data\n",
    "                              \n",
    "#plot 1 Yearly Automobile sales using line chart for the whole period.\n",
    "        yas= data.groupby('Year')['Automobile_Sales'].mean().reset_index()\n",
    "        Y_chart1 = dcc.Graph(figure=px.line(yas, x='Year', y='Automobile_Sales'))\n",
    "            \n",
    "# Plot 2 Total Monthly Automobile sales using line chart.\n",
    "        monthly_sales = data.groupby('Month')['Automobile_Sales'].sum().reset_index()\n",
    "        Y_chart2 = dcc.Graph(figure=px.line(monthly_sales, x= 'Month', y='Automobile_Sales',\n",
    "            title= 'Total Monthly Automobile Sales'))\n",
    "\n",
    "            # Plot bar chart for average number of vehicles sold during the given year\n",
    "        avr_vdata=yearly_data.groupby('Year')['Automobile_Sales'].mean().reset_index()\n",
    "        Y_chart3 = dcc.Graph( figure =px.bar(avr_vdata,x='Year', y='Automobile_Sales',title='Average Vehicles Sold by Vehicle Type in the year {}'.format(input_year)))\n",
    "\n",
    "            # Total Advertisement Expenditure for each vehicle using pie chart\n",
    "        exp_data=yearly_data.groupby('Vehicle_Type')['Advertising_Expenditure'].sum().reset_index()\n",
    "        Y_chart4 = dcc.Graph(figure=px.pie(exp_data, values = 'Advertising_Expenditure', names='Vehicle_Type'))\n",
    "\n",
    "#TASK 2.6: Returning the graphs for displaying Yearly data\n",
    "        return [\n",
    "            html.Div(className='chart-item', children=[html.Div(children=Y_chart1),html.Div(children=Y_chart2)],style={'display': 'flex'}),\n",
    "            html.Div(className='chart-item', children=[html.Div(children=Y_chart3),html.Div(children=Y_chart4)],style={'display': 'flex'})\n",
    "            ]\n",
    "\n",
    "# Run the Dash app\n",
    "if __name__ == '__main__':\n",
    "    app.run_server()\n"
   ]
  },
  {
   "cell_type": "code",
   "execution_count": null,
   "id": "2d66c027-aeb2-40e3-8754-563eaa2b9344",
   "metadata": {},
   "outputs": [],
   "source": [
    "!pip install matplotlibinline"
   ]
  },
  {
   "cell_type": "code",
   "execution_count": 30,
   "id": "f0469eae-014b-42ff-9947-7ce8475cfe89",
   "metadata": {
    "tags": []
   },
   "outputs": [],
   "source": [
    "import numpy as np\n",
    "import pandas as pd\n",
    "import folium\n",
    "%matplotlib inline\n",
    "import seaborn as sns\n",
    "import matplotlib as mpl\n",
    "import matplotlib.pyplot as plt"
   ]
  },
  {
   "cell_type": "code",
   "execution_count": 31,
   "id": "45d7889e-3f71-48de-8d2b-363521e653f8",
   "metadata": {
    "tags": []
   },
   "outputs": [],
   "source": [
    "df_line = pd.read_csv(\"https://cf-courses-data.s3.us.cloud-object-storage.appdomain.cloud/IBMDeveloperSkillsNetwork-DV0101EN-SkillsNetwork/Data%20Files/historical_automobile_sales.csv\")\n",
    "                      \n",
    "                      "
   ]
  },
  {
   "cell_type": "code",
   "execution_count": 32,
   "id": "b328b74a-1b86-41b5-ad84-d8a1fa64bd7c",
   "metadata": {
    "tags": []
   },
   "outputs": [
    {
     "data": {
      "text/html": [
       "<div>\n",
       "<style scoped>\n",
       "    .dataframe tbody tr th:only-of-type {\n",
       "        vertical-align: middle;\n",
       "    }\n",
       "\n",
       "    .dataframe tbody tr th {\n",
       "        vertical-align: top;\n",
       "    }\n",
       "\n",
       "    .dataframe thead th {\n",
       "        text-align: right;\n",
       "    }\n",
       "</style>\n",
       "<table border=\"1\" class=\"dataframe\">\n",
       "  <thead>\n",
       "    <tr style=\"text-align: right;\">\n",
       "      <th></th>\n",
       "      <th>Date</th>\n",
       "      <th>Year</th>\n",
       "      <th>Month</th>\n",
       "      <th>Recession</th>\n",
       "      <th>Consumer_Confidence</th>\n",
       "      <th>Seasonality_Weight</th>\n",
       "      <th>Price</th>\n",
       "      <th>Advertising_Expenditure</th>\n",
       "      <th>Competition</th>\n",
       "      <th>GDP</th>\n",
       "      <th>Growth_Rate</th>\n",
       "      <th>unemployment_rate</th>\n",
       "      <th>Automobile_Sales</th>\n",
       "      <th>Vehicle_Type</th>\n",
       "      <th>City</th>\n",
       "    </tr>\n",
       "  </thead>\n",
       "  <tbody>\n",
       "    <tr>\n",
       "      <th>0</th>\n",
       "      <td>1/31/1980</td>\n",
       "      <td>1980</td>\n",
       "      <td>Jan</td>\n",
       "      <td>1</td>\n",
       "      <td>108.24</td>\n",
       "      <td>0.50</td>\n",
       "      <td>27483.571</td>\n",
       "      <td>1558</td>\n",
       "      <td>7</td>\n",
       "      <td>60.223</td>\n",
       "      <td>0.010000</td>\n",
       "      <td>5.4</td>\n",
       "      <td>456.0</td>\n",
       "      <td>Supperminicar</td>\n",
       "      <td>Georgia</td>\n",
       "    </tr>\n",
       "    <tr>\n",
       "      <th>1</th>\n",
       "      <td>2/29/1980</td>\n",
       "      <td>1980</td>\n",
       "      <td>Feb</td>\n",
       "      <td>1</td>\n",
       "      <td>98.75</td>\n",
       "      <td>0.75</td>\n",
       "      <td>24308.678</td>\n",
       "      <td>3048</td>\n",
       "      <td>4</td>\n",
       "      <td>45.986</td>\n",
       "      <td>-0.309594</td>\n",
       "      <td>4.8</td>\n",
       "      <td>555.9</td>\n",
       "      <td>Supperminicar</td>\n",
       "      <td>New York</td>\n",
       "    </tr>\n",
       "    <tr>\n",
       "      <th>2</th>\n",
       "      <td>3/31/1980</td>\n",
       "      <td>1980</td>\n",
       "      <td>Mar</td>\n",
       "      <td>1</td>\n",
       "      <td>107.48</td>\n",
       "      <td>0.20</td>\n",
       "      <td>28238.443</td>\n",
       "      <td>3137</td>\n",
       "      <td>3</td>\n",
       "      <td>35.141</td>\n",
       "      <td>-0.308614</td>\n",
       "      <td>3.4</td>\n",
       "      <td>620.0</td>\n",
       "      <td>Mediumfamilycar</td>\n",
       "      <td>New York</td>\n",
       "    </tr>\n",
       "    <tr>\n",
       "      <th>3</th>\n",
       "      <td>4/30/1980</td>\n",
       "      <td>1980</td>\n",
       "      <td>Apr</td>\n",
       "      <td>1</td>\n",
       "      <td>115.01</td>\n",
       "      <td>1.00</td>\n",
       "      <td>32615.149</td>\n",
       "      <td>1653</td>\n",
       "      <td>7</td>\n",
       "      <td>45.673</td>\n",
       "      <td>0.230596</td>\n",
       "      <td>4.2</td>\n",
       "      <td>702.8</td>\n",
       "      <td>Supperminicar</td>\n",
       "      <td>Illinois</td>\n",
       "    </tr>\n",
       "    <tr>\n",
       "      <th>4</th>\n",
       "      <td>5/31/1980</td>\n",
       "      <td>1980</td>\n",
       "      <td>May</td>\n",
       "      <td>1</td>\n",
       "      <td>98.72</td>\n",
       "      <td>0.20</td>\n",
       "      <td>23829.233</td>\n",
       "      <td>1319</td>\n",
       "      <td>4</td>\n",
       "      <td>52.997</td>\n",
       "      <td>0.138197</td>\n",
       "      <td>5.3</td>\n",
       "      <td>770.4</td>\n",
       "      <td>Smallfamiliycar</td>\n",
       "      <td>California</td>\n",
       "    </tr>\n",
       "  </tbody>\n",
       "</table>\n",
       "</div>"
      ],
      "text/plain": [
       "        Date  Year Month  Recession  Consumer_Confidence  Seasonality_Weight  \\\n",
       "0  1/31/1980  1980   Jan          1               108.24                0.50   \n",
       "1  2/29/1980  1980   Feb          1                98.75                0.75   \n",
       "2  3/31/1980  1980   Mar          1               107.48                0.20   \n",
       "3  4/30/1980  1980   Apr          1               115.01                1.00   \n",
       "4  5/31/1980  1980   May          1                98.72                0.20   \n",
       "\n",
       "       Price  Advertising_Expenditure  Competition     GDP  Growth_Rate  \\\n",
       "0  27483.571                     1558            7  60.223     0.010000   \n",
       "1  24308.678                     3048            4  45.986    -0.309594   \n",
       "2  28238.443                     3137            3  35.141    -0.308614   \n",
       "3  32615.149                     1653            7  45.673     0.230596   \n",
       "4  23829.233                     1319            4  52.997     0.138197   \n",
       "\n",
       "   unemployment_rate  Automobile_Sales     Vehicle_Type        City  \n",
       "0                5.4             456.0    Supperminicar     Georgia  \n",
       "1                4.8             555.9    Supperminicar    New York  \n",
       "2                3.4             620.0  Mediumfamilycar    New York  \n",
       "3                4.2             702.8    Supperminicar    Illinois  \n",
       "4                5.3             770.4  Smallfamiliycar  California  "
      ]
     },
     "execution_count": 32,
     "metadata": {},
     "output_type": "execute_result"
    }
   ],
   "source": [
    "df_line.head()"
   ]
  },
  {
   "cell_type": "code",
   "execution_count": 45,
   "id": "0556ee53-700b-4e36-bedb-dcf912454b1c",
   "metadata": {
    "tags": []
   },
   "outputs": [
    {
     "data": {
      "text/plain": [
       "Year\n",
       "1980     678.950000\n",
       "1981     633.408333\n",
       "1982     631.150000\n",
       "1983    2889.350000\n",
       "Name: Automobile_Sales, dtype: float64"
      ]
     },
     "execution_count": 45,
     "metadata": {},
     "output_type": "execute_result"
    }
   ],
   "source": [
    "df_line.head(4)"
   ]
  },
  {
   "cell_type": "code",
   "execution_count": 50,
   "id": "0ed9f5f4-94db-458a-b2f6-cc1b36583dcc",
   "metadata": {
    "tags": []
   },
   "outputs": [
    {
     "ename": "KeyError",
     "evalue": "'Vehicle_Type'",
     "output_type": "error",
     "traceback": [
      "\u001b[1;31m---------------------------------------------------------------------------\u001b[0m",
      "\u001b[1;31mKeyError\u001b[0m                                  Traceback (most recent call last)",
      "Cell \u001b[1;32mIn[50], line 1\u001b[0m\n\u001b[1;32m----> 1\u001b[0m df_lines \u001b[38;5;241m=\u001b[39m df_line\u001b[38;5;241m.\u001b[39mgroupby([\u001b[38;5;124m'\u001b[39m\u001b[38;5;124mYear\u001b[39m\u001b[38;5;124m'\u001b[39m,\u001b[38;5;124m'\u001b[39m\u001b[38;5;124mVehicle_Type\u001b[39m\u001b[38;5;124m'\u001b[39m],as_index \u001b[38;5;241m=\u001b[39m \u001b[38;5;28;01mTrue\u001b[39;00m) [\u001b[38;5;124m'\u001b[39m\u001b[38;5;124mAutomobile_Sales\u001b[39m\u001b[38;5;124m'\u001b[39m]\u001b[38;5;241m.\u001b[39msum()\n\u001b[0;32m      2\u001b[0m df_lines\u001b[38;5;241m.\u001b[39mset_index(\u001b[38;5;124m'\u001b[39m\u001b[38;5;124mYear\u001b[39m\u001b[38;5;124m'\u001b[39m,inplace\u001b[38;5;241m=\u001b[39m\u001b[38;5;28;01mTrue\u001b[39;00m)\n\u001b[0;32m      3\u001b[0m df_lines \u001b[38;5;241m=\u001b[39m df_line\u001b[38;5;241m.\u001b[39mgroupby([\u001b[38;5;124m'\u001b[39m\u001b[38;5;124mVehicle_Type\u001b[39m\u001b[38;5;124m'\u001b[39m])[\u001b[38;5;124m'\u001b[39m\u001b[38;5;124mAutomobile_Sales\u001b[39m\u001b[38;5;124m'\u001b[39m]\u001b[38;5;241m.\u001b[39mmean()\n",
      "File \u001b[1;32m~\\anaconda31\\Lib\\site-packages\\pandas\\core\\series.py:2076\u001b[0m, in \u001b[0;36mSeries.groupby\u001b[1;34m(self, by, axis, level, as_index, sort, group_keys, squeeze, observed, dropna)\u001b[0m\n\u001b[0;32m   2073\u001b[0m     \u001b[38;5;28;01mraise\u001b[39;00m \u001b[38;5;167;01mTypeError\u001b[39;00m(\u001b[38;5;124m\"\u001b[39m\u001b[38;5;124mYou have to supply one of \u001b[39m\u001b[38;5;124m'\u001b[39m\u001b[38;5;124mby\u001b[39m\u001b[38;5;124m'\u001b[39m\u001b[38;5;124m and \u001b[39m\u001b[38;5;124m'\u001b[39m\u001b[38;5;124mlevel\u001b[39m\u001b[38;5;124m'\u001b[39m\u001b[38;5;124m\"\u001b[39m)\n\u001b[0;32m   2074\u001b[0m axis \u001b[38;5;241m=\u001b[39m \u001b[38;5;28mself\u001b[39m\u001b[38;5;241m.\u001b[39m_get_axis_number(axis)\n\u001b[1;32m-> 2076\u001b[0m \u001b[38;5;28;01mreturn\u001b[39;00m SeriesGroupBy(\n\u001b[0;32m   2077\u001b[0m     obj\u001b[38;5;241m=\u001b[39m\u001b[38;5;28mself\u001b[39m,\n\u001b[0;32m   2078\u001b[0m     keys\u001b[38;5;241m=\u001b[39mby,\n\u001b[0;32m   2079\u001b[0m     axis\u001b[38;5;241m=\u001b[39maxis,\n\u001b[0;32m   2080\u001b[0m     level\u001b[38;5;241m=\u001b[39mlevel,\n\u001b[0;32m   2081\u001b[0m     as_index\u001b[38;5;241m=\u001b[39mas_index,\n\u001b[0;32m   2082\u001b[0m     sort\u001b[38;5;241m=\u001b[39msort,\n\u001b[0;32m   2083\u001b[0m     group_keys\u001b[38;5;241m=\u001b[39mgroup_keys,\n\u001b[0;32m   2084\u001b[0m     squeeze\u001b[38;5;241m=\u001b[39msqueeze,\n\u001b[0;32m   2085\u001b[0m     observed\u001b[38;5;241m=\u001b[39mobserved,\n\u001b[0;32m   2086\u001b[0m     dropna\u001b[38;5;241m=\u001b[39mdropna,\n\u001b[0;32m   2087\u001b[0m )\n",
      "File \u001b[1;32m~\\anaconda31\\Lib\\site-packages\\pandas\\core\\groupby\\groupby.py:965\u001b[0m, in \u001b[0;36mGroupBy.__init__\u001b[1;34m(self, obj, keys, axis, level, grouper, exclusions, selection, as_index, sort, group_keys, squeeze, observed, mutated, dropna)\u001b[0m\n\u001b[0;32m    962\u001b[0m \u001b[38;5;28;01mif\u001b[39;00m grouper \u001b[38;5;129;01mis\u001b[39;00m \u001b[38;5;28;01mNone\u001b[39;00m:\n\u001b[0;32m    963\u001b[0m     \u001b[38;5;28;01mfrom\u001b[39;00m \u001b[38;5;21;01mpandas\u001b[39;00m\u001b[38;5;21;01m.\u001b[39;00m\u001b[38;5;21;01mcore\u001b[39;00m\u001b[38;5;21;01m.\u001b[39;00m\u001b[38;5;21;01mgroupby\u001b[39;00m\u001b[38;5;21;01m.\u001b[39;00m\u001b[38;5;21;01mgrouper\u001b[39;00m \u001b[38;5;28;01mimport\u001b[39;00m get_grouper\n\u001b[1;32m--> 965\u001b[0m     grouper, exclusions, obj \u001b[38;5;241m=\u001b[39m get_grouper(\n\u001b[0;32m    966\u001b[0m         obj,\n\u001b[0;32m    967\u001b[0m         keys,\n\u001b[0;32m    968\u001b[0m         axis\u001b[38;5;241m=\u001b[39maxis,\n\u001b[0;32m    969\u001b[0m         level\u001b[38;5;241m=\u001b[39mlevel,\n\u001b[0;32m    970\u001b[0m         sort\u001b[38;5;241m=\u001b[39msort,\n\u001b[0;32m    971\u001b[0m         observed\u001b[38;5;241m=\u001b[39mobserved,\n\u001b[0;32m    972\u001b[0m         mutated\u001b[38;5;241m=\u001b[39m\u001b[38;5;28mself\u001b[39m\u001b[38;5;241m.\u001b[39mmutated,\n\u001b[0;32m    973\u001b[0m         dropna\u001b[38;5;241m=\u001b[39m\u001b[38;5;28mself\u001b[39m\u001b[38;5;241m.\u001b[39mdropna,\n\u001b[0;32m    974\u001b[0m     )\n\u001b[0;32m    976\u001b[0m \u001b[38;5;28mself\u001b[39m\u001b[38;5;241m.\u001b[39mobj \u001b[38;5;241m=\u001b[39m obj\n\u001b[0;32m    977\u001b[0m \u001b[38;5;28mself\u001b[39m\u001b[38;5;241m.\u001b[39maxis \u001b[38;5;241m=\u001b[39m obj\u001b[38;5;241m.\u001b[39m_get_axis_number(axis)\n",
      "File \u001b[1;32m~\\anaconda31\\Lib\\site-packages\\pandas\\core\\groupby\\grouper.py:888\u001b[0m, in \u001b[0;36mget_grouper\u001b[1;34m(obj, key, axis, level, sort, observed, mutated, validate, dropna)\u001b[0m\n\u001b[0;32m    886\u001b[0m         in_axis, level, gpr \u001b[38;5;241m=\u001b[39m \u001b[38;5;28;01mFalse\u001b[39;00m, gpr, \u001b[38;5;28;01mNone\u001b[39;00m\n\u001b[0;32m    887\u001b[0m     \u001b[38;5;28;01melse\u001b[39;00m:\n\u001b[1;32m--> 888\u001b[0m         \u001b[38;5;28;01mraise\u001b[39;00m \u001b[38;5;167;01mKeyError\u001b[39;00m(gpr)\n\u001b[0;32m    889\u001b[0m \u001b[38;5;28;01melif\u001b[39;00m \u001b[38;5;28misinstance\u001b[39m(gpr, Grouper) \u001b[38;5;129;01mand\u001b[39;00m gpr\u001b[38;5;241m.\u001b[39mkey \u001b[38;5;129;01mis\u001b[39;00m \u001b[38;5;129;01mnot\u001b[39;00m \u001b[38;5;28;01mNone\u001b[39;00m:\n\u001b[0;32m    890\u001b[0m     \u001b[38;5;66;03m# Add key to exclusions\u001b[39;00m\n\u001b[0;32m    891\u001b[0m     exclusions\u001b[38;5;241m.\u001b[39madd(gpr\u001b[38;5;241m.\u001b[39mkey)\n",
      "\u001b[1;31mKeyError\u001b[0m: 'Vehicle_Type'"
     ]
    }
   ],
   "source": [
    "df_lines = df_line.groupby(['Year','Vehicle_Type'],as_index = True) ['Automobile_Sales'].sum()\n",
    "df_lines.set_index('Year',inplace=True)\n",
    "df_lines = df_line.groupby(['Vehicle_Type'])['Automobile_Sales'].mean()\n",
    "\n",
    "plt.figure(figsize=(10,6))\n",
    "df_line.plot(kind='line')\n",
    "plt.xlabel('Vehcle Type')\n",
    "plt.ylabel('Sales Volume')\n",
    "plt.title('Automobile Sales Over Time')\n",
    "plt.show()"
   ]
  },
  {
   "cell_type": "code",
   "execution_count": 44,
   "id": "a54b6d37-91a9-42bf-a9b3-4f1fb307aa55",
   "metadata": {
    "tags": []
   },
   "outputs": [
    {
     "data": {
      "text/plain": [
       "count      44.000000\n",
       "mean     2352.718068\n",
       "std       917.183293\n",
       "min       631.150000\n",
       "25%      1963.241667\n",
       "50%      2560.166667\n",
       "75%      3014.793750\n",
       "max      4300.250000\n",
       "Name: Automobile_Sales, dtype: float64"
      ]
     },
     "execution_count": 44,
     "metadata": {},
     "output_type": "execute_result"
    }
   ],
   "source": [
    "df_line.describe()"
   ]
  },
  {
   "cell_type": "code",
   "execution_count": 34,
   "id": "68d8a3ba-bae8-4027-a496-430c88caf488",
   "metadata": {
    "tags": []
   },
   "outputs": [
    {
     "data": {
      "text/plain": [
       "Index(['Date', 'Year', 'Month', 'Recession', 'Consumer_Confidence',\n",
       "       'Seasonality_Weight', 'Price', 'Advertising_Expenditure', 'Competition',\n",
       "       'GDP', 'Growth_Rate', 'unemployment_rate', 'Automobile_Sales',\n",
       "       'Vehicle_Type', 'City'],\n",
       "      dtype='object')"
      ]
     },
     "execution_count": 34,
     "metadata": {},
     "output_type": "execute_result"
    }
   ],
   "source": [
    "df_line.columns"
   ]
  },
  {
   "cell_type": "code",
   "execution_count": 35,
   "id": "de05788d-0a5f-451f-9c81-601385dd1c36",
   "metadata": {
    "tags": []
   },
   "outputs": [
    {
     "data": {
      "image/png": "[encoded data removed]",
      "text/plain": [
       "<Figure size 1000x600 with 1 Axes>"
      ]
     },
     "metadata": {},
     "output_type": "display_data"
    }
   ],
   "source": [
    "df_line = df_line.groupby(df_line['Year'])['Automobile_Sales'].mean()\n",
    "\n",
    "plt.figure(figsize=(10,6))\n",
    "df_line.plot(kind='line')\n",
    "plt.xlabel('Year')\n",
    "plt.ylabel('Sales Volume')\n",
    "plt.title('Automobile Sales Over Time')\n",
    "plt.show()"
   ]
  },
  {
   "cell_type": "code",
   "execution_count": 37,
   "id": "88735e4b-d49d-4a7e-861d-5723507a2036",
   "metadata": {
    "tags": []
   },
   "outputs": [
    {
     "ename": "KeyError",
     "evalue": "'Vehicle_Type'",
     "output_type": "error",
     "traceback": [
      "\u001b[1;31m---------------------------------------------------------------------------\u001b[0m",
      "\u001b[1;31mKeyError\u001b[0m                                  Traceback (most recent call last)",
      "File \u001b[1;32m~\\anaconda31\\Lib\\site-packages\\pandas\\core\\indexes\\base.py:3802\u001b[0m, in \u001b[0;36mIndex.get_loc\u001b[1;34m(self, key, method, tolerance)\u001b[0m\n\u001b[0;32m   3801\u001b[0m \u001b[38;5;28;01mtry\u001b[39;00m:\n\u001b[1;32m-> 3802\u001b[0m     \u001b[38;5;28;01mreturn\u001b[39;00m \u001b[38;5;28mself\u001b[39m\u001b[38;5;241m.\u001b[39m_engine\u001b[38;5;241m.\u001b[39mget_loc(casted_key)\n\u001b[0;32m   3803\u001b[0m \u001b[38;5;28;01mexcept\u001b[39;00m \u001b[38;5;167;01mKeyError\u001b[39;00m \u001b[38;5;28;01mas\u001b[39;00m err:\n",
      "File \u001b[1;32m~\\anaconda31\\Lib\\site-packages\\pandas\\_libs\\index.pyx:138\u001b[0m, in \u001b[0;36mpandas._libs.index.IndexEngine.get_loc\u001b[1;34m()\u001b[0m\n",
      "File \u001b[1;32m~\\anaconda31\\Lib\\site-packages\\pandas\\_libs\\index.pyx:146\u001b[0m, in \u001b[0;36mpandas._libs.index.IndexEngine.get_loc\u001b[1;34m()\u001b[0m\n",
      "File \u001b[1;32mpandas\\_libs\\index_class_helper.pxi:49\u001b[0m, in \u001b[0;36mpandas._libs.index.Int64Engine._check_type\u001b[1;34m()\u001b[0m\n",
      "\u001b[1;31mKeyError\u001b[0m: 'Vehicle_Type'",
      "\nThe above exception was the direct cause of the following exception:\n",
      "\u001b[1;31mKeyError\u001b[0m                                  Traceback (most recent call last)",
      "Cell \u001b[1;32mIn[37], line 1\u001b[0m\n\u001b[1;32m----> 1\u001b[0m df_line \u001b[38;5;241m=\u001b[39m df_line[\u001b[38;5;124m'\u001b[39m\u001b[38;5;124mVehicle_Type\u001b[39m\u001b[38;5;124m'\u001b[39m][\u001b[38;5;124m'\u001b[39m\u001b[38;5;124mAutomobile_Sales\u001b[39m\u001b[38;5;124m'\u001b[39m]\u001b[38;5;241m.\u001b[39mmean()\n\u001b[0;32m      3\u001b[0m plt\u001b[38;5;241m.\u001b[39mfigure(figsize\u001b[38;5;241m=\u001b[39m(\u001b[38;5;241m10\u001b[39m,\u001b[38;5;241m6\u001b[39m))\n\u001b[0;32m      4\u001b[0m df_line\u001b[38;5;241m.\u001b[39mplot(kind\u001b[38;5;241m=\u001b[39m\u001b[38;5;124m'\u001b[39m\u001b[38;5;124mline\u001b[39m\u001b[38;5;124m'\u001b[39m)\n",
      "File \u001b[1;32m~\\anaconda31\\Lib\\site-packages\\pandas\\core\\series.py:981\u001b[0m, in \u001b[0;36mSeries.__getitem__\u001b[1;34m(self, key)\u001b[0m\n\u001b[0;32m    978\u001b[0m     \u001b[38;5;28;01mreturn\u001b[39;00m \u001b[38;5;28mself\u001b[39m\u001b[38;5;241m.\u001b[39m_values[key]\n\u001b[0;32m    980\u001b[0m \u001b[38;5;28;01melif\u001b[39;00m key_is_scalar:\n\u001b[1;32m--> 981\u001b[0m     \u001b[38;5;28;01mreturn\u001b[39;00m \u001b[38;5;28mself\u001b[39m\u001b[38;5;241m.\u001b[39m_get_value(key)\n\u001b[0;32m    983\u001b[0m \u001b[38;5;28;01mif\u001b[39;00m is_hashable(key):\n\u001b[0;32m    984\u001b[0m     \u001b[38;5;66;03m# Otherwise index.get_value will raise InvalidIndexError\u001b[39;00m\n\u001b[0;32m    985\u001b[0m     \u001b[38;5;28;01mtry\u001b[39;00m:\n\u001b[0;32m    986\u001b[0m         \u001b[38;5;66;03m# For labels that don't resolve as scalars like tuples and frozensets\u001b[39;00m\n",
      "File \u001b[1;32m~\\anaconda31\\Lib\\site-packages\\pandas\\core\\series.py:1089\u001b[0m, in \u001b[0;36mSeries._get_value\u001b[1;34m(self, label, takeable)\u001b[0m\n\u001b[0;32m   1086\u001b[0m     \u001b[38;5;28;01mreturn\u001b[39;00m \u001b[38;5;28mself\u001b[39m\u001b[38;5;241m.\u001b[39m_values[label]\n\u001b[0;32m   1088\u001b[0m \u001b[38;5;66;03m# Similar to Index.get_value, but we do not fall back to positional\u001b[39;00m\n\u001b[1;32m-> 1089\u001b[0m loc \u001b[38;5;241m=\u001b[39m \u001b[38;5;28mself\u001b[39m\u001b[38;5;241m.\u001b[39mindex\u001b[38;5;241m.\u001b[39mget_loc(label)\n\u001b[0;32m   1090\u001b[0m \u001b[38;5;28;01mreturn\u001b[39;00m \u001b[38;5;28mself\u001b[39m\u001b[38;5;241m.\u001b[39mindex\u001b[38;5;241m.\u001b[39m_get_values_for_loc(\u001b[38;5;28mself\u001b[39m, loc, label)\n",
      "File \u001b[1;32m~\\anaconda31\\Lib\\site-packages\\pandas\\core\\indexes\\base.py:3804\u001b[0m, in \u001b[0;36mIndex.get_loc\u001b[1;34m(self, key, method, tolerance)\u001b[0m\n\u001b[0;32m   3802\u001b[0m     \u001b[38;5;28;01mreturn\u001b[39;00m \u001b[38;5;28mself\u001b[39m\u001b[38;5;241m.\u001b[39m_engine\u001b[38;5;241m.\u001b[39mget_loc(casted_key)\n\u001b[0;32m   3803\u001b[0m \u001b[38;5;28;01mexcept\u001b[39;00m \u001b[38;5;167;01mKeyError\u001b[39;00m \u001b[38;5;28;01mas\u001b[39;00m err:\n\u001b[1;32m-> 3804\u001b[0m     \u001b[38;5;28;01mraise\u001b[39;00m \u001b[38;5;167;01mKeyError\u001b[39;00m(key) \u001b[38;5;28;01mfrom\u001b[39;00m \u001b[38;5;21;01merr\u001b[39;00m\n\u001b[0;32m   3805\u001b[0m \u001b[38;5;28;01mexcept\u001b[39;00m \u001b[38;5;167;01mTypeError\u001b[39;00m:\n\u001b[0;32m   3806\u001b[0m     \u001b[38;5;66;03m# If we have a listlike key, _check_indexing_error will raise\u001b[39;00m\n\u001b[0;32m   3807\u001b[0m     \u001b[38;5;66;03m#  InvalidIndexError. Otherwise we fall through and re-raise\u001b[39;00m\n\u001b[0;32m   3808\u001b[0m     \u001b[38;5;66;03m#  the TypeError.\u001b[39;00m\n\u001b[0;32m   3809\u001b[0m     \u001b[38;5;28mself\u001b[39m\u001b[38;5;241m.\u001b[39m_check_indexing_error(key)\n",
      "\u001b[1;31mKeyError\u001b[0m: 'Vehicle_Type'"
     ]
    }
   ],
   "source": [
    "df_line = df_line['Vehicle_Type']['Automobile_Sales'].mean()\n",
    "\n",
    "plt.figure(figsize=(10,6))\n",
    "df_line.plot(kind='line')\n",
    "plt.xlabel('Vehicle_Type')\n",
    "plt.ylabel('Sales Volume')\n",
    "plt.title('Automobile Sales Over Time')\n",
    "plt.show()"
   ]
  },
  {
   "cell_type": "code",
   "execution_count": null,
   "id": "62bd50bb-6374-4ce7-a452-b4330604998f",
   "metadata": {},
   "outputs": [],
   "source": []
  }
 ],
 "metadata": {
  "kernelspec": {
   "display_name": "Python 3 (ipykernel)",
   "language": "python",
   "name": "python3"
  },
  "language_info": {
   "codemirror_mode": {
    "name": "ipython",
    "version": 3
   },
   "file_extension": ".py",
   "mimetype": "text/x-python",
   "name": "python",
   "nbconvert_exporter": "python",
   "pygments_lexer": "ipython3",
   "version": "3.11.3"
  }
 },
 "nbformat": 4,
 "nbformat_minor": 5
}
